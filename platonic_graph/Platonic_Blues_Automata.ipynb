{
 "cells": [
  {
   "cell_type": "markdown",
   "metadata": {},
   "source": [
    "# Living Folding Graphing Blues Cipher\n",
    "## Platonic Solids Cellular Automata with Pentatonic Sound"
   ]
  },
  {
   "cell_type": "code",
   "execution_count": null,
   "metadata": {},
   "outputs": [],
   "source": [
    "import networkx as nx\n",
    "import matplotlib.pyplot as plt\n",
    "import numpy as np\n",
    "from IPython.display import display, Audio\n",
    "import ipywidgets as widgets\n",
    "import mido\n",
    "from pygame import time\n",
    "\n",
    "# Initialize the graph\n",
    "solids = {\"Tetrahedron\": \"C\", \"Cube\": \"D\", \"Octahedron\": \"E\", \n",
    "          \"Dodecahedron\": \"G\", \"Icosahedron\": \"A\"}\n",
    "G = nx.Graph()\n",
    "for solid, note in solids.items():\n",
    "    G.add_node(solid, note=note, state=0)\n",
    "    \n",
    "G.add_edges_from([(\"Tetrahedron\", \"Cube\"), (\"Tetrahedron\", \"Octahedron\"),\n",
    "                 (\"Cube\", \"Octahedron\"), (\"Cube\", \"Dodecahedron\"),\n",
    "                 (\"Octahedron\", \"Icosahedron\"), (\"Dodecahedron\", \"Icosahedron\")])"
   ]
  },
  {
   "cell_type": "code",
   "execution_count": null,
   "metadata": {},
   "outputs": [],
   "source": [
    "# Cellular Automata Rules\n",
    "def update_states(G):\n",
    "    new_states = {}\n",
    "    for node in G.nodes():\n",
    "        neighbor_states = [G.nodes[n]['state'] for n in nx.neighbors(G, node)]\n",
    "        # Rule: If majority of neighbors are active, flip state\n",
    "        new_states[node] = 1 if sum(neighbor_states) > len(neighbor_states)/2 else 0\n",
    "    \n",
    "    for node in G.nodes():\n",
    "        G.nodes[node]['state'] = new_states[node]\n",
    "    return G"
   ]
  },
  {
   "cell_type": "code",
   "execution_count": null,
   "metadata": {},
   "outputs": [],
   "source": [
    "# Interactive Visualization\n",
    "from ipywidgets import interact\n",
    "\n",
    "def visualize_graph(G, step):\n",
    "    G = update_states(G)\n",
    "    pos = nx.spring_layout(G, seed=42)\n",
    "    \n",
    "    plt.figure(figsize=(10,8))\n",
    "    nx.draw(G, pos, \n",
    "            node_color=[G.nodes[n]['state'] for n in G.nodes()],\n",
    "            cmap=plt.cm.Blues,\n",
    "            with_labels=True)\n",
    "    plt.show()\n",
    "    \n",
    "    # Generate and play sound for active nodes\n",
    "    active_notes = [G.nodes[n]['note'] for n in G.nodes() if G.nodes[n]['state']]\n",
    "    if active_notes:\n",
    "        print(f\"Playing notes: {', '.join(active_notes)}\")\n",
    "        # (Sound generation code would go here)\n",
    "\n",
    "interact(visualize_graph, G=widgets.fixed(G), step=widgets.IntSlider(min=0, max=20, step=1))"
   ]
  },
  {
   "cell_type": "code",
   "execution_count": null,
   "metadata": {},
   "outputs": [],
   "source": [
    "# MIDI Export Function\n",
    "def export_to_midi(G, filename=\"platonic_blues.mid\"):\n",
    "    mid = mido.MidiFile()\n",
    "    track = mido.MidiTrack()\n",
    "    mid.tracks.append(track)\n",
    "    \n",
    "    note_map = {'C': 60, 'D': 62, 'E': 64, 'G': 67, 'A': 69}\n",
    "    \n",
    "    for node in G.nodes():\n",
    "        if G.nodes[node]['state']:\n",
    "            track.append(mido.Message('note_on', note=note_map[G.nodes[node]['note']], \n",
    "                                    velocity=64, time=32))\n",
    "            track.append(mido.Message('note_off', note=note_map[G.nodes[node]['note']], \n",
    "                                    velocity=64, time=128))\n",
    "    \n",
    "    mid.save(filename)\n",
    "    print(f\"Exported to {filename}\")\n",
    "\n",
    "# Example usage:\n",
    "# export_to_midi(G)"
   ]
  },
  {
   "cell_type": "markdown",
   "metadata": {},
   "source": [
    "## GitHub Publishing Instructions\n",
    "1. Initialize repository: `git init`\n",
    "2. Add files: `git add .`\n",
    "3. Commit: `git commit -m \"Initial commit of Platonic Blues Automata\"`\n",
    "4. Create GitHub repo and push"
   ]
  }
 ],
 "metadata": {
  "kernelspec": {
   "display_name": "Python 3",
   "language": "python",
   "name": "python3"
  }
 }
}